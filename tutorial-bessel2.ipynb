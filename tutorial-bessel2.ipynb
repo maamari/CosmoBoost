{
 "cells": [
  {
   "cell_type": "code",
   "execution_count": null,
   "metadata": {
    "ExecuteTime": {
     "end_time": "2020-03-02T18:23:06.302768Z",
     "start_time": "2020-03-02T18:23:06.247505Z"
    }
   },
   "outputs": [],
   "source": [
    "import matplotlib.pyplot as plt\n",
    "\n",
    "import healpy as hp\n",
    "import numpy as np\n",
    "\n",
    "%load_ext autoreload\n",
    "%autoreload 2\n",
    "\n",
    "%config InlineBackend.figure_format = 'retina'\n",
    "\n",
    "plt.rcParams['font.size']=13\n",
    "plt.rcParams['font.family']='stix'\n",
    "plt.rcParams['text.usetex']=True\n",
    "plt.rcParams['figure.figsize']= (6.5,4)\n",
    "plt.rcParams['figure.dpi']=150"
   ]
  },
  {
   "cell_type": "markdown",
   "metadata": {},
   "source": [
    "Import the cosmoboost package: "
   ]
  },
  {
   "cell_type": "code",
   "execution_count": null,
   "metadata": {
    "ExecuteTime": {
     "end_time": "2020-03-02T18:13:32.330889Z",
     "start_time": "2020-03-02T18:13:32.270423Z"
    }
   },
   "outputs": [],
   "source": [
    "import cosmoboost as cb"
   ]
  },
  {
   "cell_type": "markdown",
   "metadata": {},
   "source": [
    "# Initialize the Doppler and Aberration Kernel"
   ]
  },
  {
   "cell_type": "markdown",
   "metadata": {},
   "source": [
    "In order to initialize the kernel, you need to set up the parameters dictionary. The default values are stored in `cosmoboost.DEFAULT_PARS`. "
   ]
  },
  {
   "cell_type": "code",
   "execution_count": null,
   "metadata": {
    "ExecuteTime": {
     "end_time": "2020-03-02T18:13:33.485401Z",
     "start_time": "2020-03-02T18:13:33.450809Z"
    }
   },
   "outputs": [],
   "source": [
    "#read the default parameters from cosmoboost\n",
    "pars = cb.DEFAULT_PARS"
   ]
  },
  {
   "cell_type": "markdown",
   "metadata": {},
   "source": [
    "Let's see what it contains"
   ]
  },
  {
   "cell_type": "code",
   "execution_count": null,
   "metadata": {
    "ExecuteTime": {
     "end_time": "2020-03-02T18:13:34.108313Z",
     "start_time": "2020-03-02T18:13:34.061618Z"
    }
   },
   "outputs": [],
   "source": [
    "pars"
   ]
  },
  {
   "cell_type": "markdown",
   "metadata": {},
   "source": [
    "## quick note on the parameters"
   ]
  },
  {
   "cell_type": "markdown",
   "metadata": {},
   "source": [
    "**The important ones**\n",
    "\n",
    "`d`: Doppler weight of the observable\n",
    "\n",
    "`s`: Spin weight of the observable (0 for temperature and 2 for polarization)\n",
    "\n",
    "`beta`: Velocity of the frame [assumes motion in the $\\hat{z}$ direction (north galactic pole)]\n",
    "\n",
    "`lmax`: Limits the kernel calculation up to this ell mode \n",
    "\n",
    "`delta_ell`: Limits the kernel calculation to this many neighbors on each side of every ell mode. For example, `delta_ell=2` calculates the motion induced leakage from `ell-2`, `ell-1`, `ell+1`, and `ell+2`. By default the code uses the recommended number of modes. \n",
    "\n",
    "`T_0`: Average temperature of the background radiation in units of Kelvin.\n",
    "\n",
    "**The rest**\n",
    "\n",
    "`lmin`: Should always be set to zero. This is only defined for the sake of clarity and to specifiy that ell does NOT start from 2. \n",
    "\n",
    "`beta_expansion_order`: Calculates the generalized Doppler and aberration effect up to this order. \n",
    "\n",
    "`normalize`: If set to True, calculates everything in units of temperature. \n",
    "\n",
    "`derivative_dnu`: Frequency resolution used for derivatives in the generalized Doppler and aberration kernel. \n",
    "\n",
    "`frequency_function`: Determines the frequency function of the background radiation. Currently can be only set to `\"CMB\"` and `\"tSZ\"`."
   ]
  },
  {
   "cell_type": "markdown",
   "metadata": {},
   "source": [
    "# Instantiating the Kernel "
   ]
  },
  {
   "cell_type": "markdown",
   "metadata": {
    "ExecuteTime": {
     "end_time": "2019-07-11T01:18:20.424510Z",
     "start_time": "2019-07-11T01:18:20.078431Z"
    }
   },
   "source": [
    "Now let's change some of the parameters"
   ]
  },
  {
   "cell_type": "code",
   "execution_count": null,
   "metadata": {
    "ExecuteTime": {
     "end_time": "2020-03-03T00:54:28.389433Z",
     "start_time": "2020-03-03T00:54:28.351765Z"
    }
   },
   "outputs": [],
   "source": [
    "lmax=pars['lmax']=5000\n",
    "delta_ell = pars['delta_ell']=8\n",
    "\n",
    "beta=pars['beta']\n",
    "T_0 = pars[\"T_0\"]"
   ]
  },
  {
   "cell_type": "code",
   "execution_count": null,
   "metadata": {},
   "outputs": [],
   "source": [
    "pars"
   ]
  },
  {
   "cell_type": "markdown",
   "metadata": {
    "ExecuteTime": {
     "end_time": "2019-07-11T01:20:05.328842Z",
     "start_time": "2019-07-11T01:20:05.300643Z"
    }
   },
   "source": [
    "Now let's initialize the kernel using these parameters m"
   ]
  },
  {
   "cell_type": "code",
   "execution_count": null,
   "metadata": {
    "ExecuteTime": {
     "end_time": "2020-03-03T00:58:51.328534Z",
     "start_time": "2020-03-03T00:54:29.890240Z"
    },
    "scrolled": false
   },
   "outputs": [],
   "source": [
    "# initialize the kernel \n",
    "pars['d']=0\n",
    "pars['method']='analytic'\n",
    "kernel_a = cb.Kernel(pars, save_kernel=False, overwrite=True)"
   ]
  },
  {
   "cell_type": "code",
   "execution_count": null,
   "metadata": {
    "ExecuteTime": {
     "end_time": "2020-03-03T00:46:24.526953Z",
     "start_time": "2020-03-03T00:45:39.574920Z"
    }
   },
   "outputs": [],
   "source": [
    "pars['d']=1\n",
    "pars[\"method\"] = \"numerical\"\n",
    "kernel_n = cb.Kernel(pars, save_kernel=False, overwrite=True)"
   ]
  },
  {
   "cell_type": "markdown",
   "metadata": {
    "ExecuteTime": {
     "end_time": "2019-08-06T18:55:16.375192Z",
     "start_time": "2019-08-06T18:55:16.021901Z"
    }
   },
   "source": [
    "The elements of `kernel.mLl` are organized in a matrix such that each row corresponds to a ($m,\\ell'$) pair, and each column to a $\\Delta \\ell$ value. The Each block starts with an $m$ and goes down through all possible values of $\\ell'$ (0 to $m$). Here's an example of the matrix around the neighbor of $(m,\\ell')=(0,501)$:"
   ]
  },
  {
   "cell_type": "markdown",
   "metadata": {},
   "source": [
    "|          -        |  -  |      -     | $\\Delta \\ell$ |      -     |  -  |\n",
    "|:-----------------:|:---:|:----------:|---------------|:----------:|:---:|\n",
    "|         -         | ... | -1         | 0             | +1         | ... |\n",
    "|         -         | ... | (0,500, 409)  | (0,500, 500)    | (0,500, 501) | ... |\n",
    "| ($m,\\ell', \\ell$) | ... | (0,501, 500) | (0,501, 501)    | (0,501, 502) | ... |\n",
    "|         -         | ... | (0,502, 501) | (0,502, 502)    | (0,502, 503) | ... |"
   ]
  },
  {
   "cell_type": "markdown",
   "metadata": {},
   "source": [
    "Now let's slice and print the K_{m, ell', ell} matrix for these values of $m$ and $\\ell'$ which we call `(m,L)`"
   ]
  },
  {
   "cell_type": "code",
   "execution_count": null,
   "metadata": {
    "ExecuteTime": {
     "end_time": "2020-03-03T00:46:25.141714Z",
     "start_time": "2020-03-03T00:46:25.111744Z"
    }
   },
   "outputs": [],
   "source": [
    "m=0\n",
    "L = 501 \n",
    "\n",
    "# and let's also calculate the generalized kernel at this frequency \n",
    "nu_0 = 217 #GHz "
   ]
  },
  {
   "cell_type": "code",
   "execution_count": null,
   "metadata": {
    "ExecuteTime": {
     "end_time": "2020-03-03T00:46:25.514953Z",
     "start_time": "2020-03-03T00:46:25.443036Z"
    }
   },
   "outputs": [],
   "source": [
    "# this function let's us slice the (m,L) row\n",
    "indx = cb.mL2indx(m,L,lmax)"
   ]
  },
  {
   "cell_type": "code",
   "execution_count": null,
   "metadata": {},
   "outputs": [],
   "source": [
    "kernel_a.mLl"
   ]
  },
  {
   "cell_type": "code",
   "execution_count": null,
   "metadata": {},
   "outputs": [],
   "source": [
    "kernel_n.mLl"
   ]
  },
  {
   "cell_type": "code",
   "execution_count": null,
   "metadata": {
    "ExecuteTime": {
     "end_time": "2020-03-03T00:46:32.911588Z",
     "start_time": "2020-03-03T00:46:26.073218Z"
    }
   },
   "outputs": [],
   "source": [
    "# frequency-independent\n",
    "K_a_mL_slice = kernel_a.mLl[indx]\n",
    "\n",
    "# frequency-dependent (evaluated at 217 GHz)\n",
    "K_a_nu_mL_slice = kernel_a.nu_mLl(nu_0)[indx]\n",
    "\n",
    "print(\"K_mLl = {}\\n\".format(K_a_mL_slice))\n",
    "print(\"K_mLl_nu({}GHz) = {}\".format(nu_0, K_a_nu_mL_slice))"
   ]
  },
  {
   "cell_type": "code",
   "execution_count": null,
   "metadata": {
    "ExecuteTime": {
     "end_time": "2020-03-03T00:46:39.187559Z",
     "start_time": "2020-03-03T00:46:33.247612Z"
    }
   },
   "outputs": [],
   "source": [
    "# frequency-independent\n",
    "K_n_mL_slice = kernel_n.mLl[indx]\n",
    "\n",
    "# frequency-dependent (evaluated at 217 GHz)\n",
    "K_n_nu_mL_slice = kernel_n.nu_mLl(nu_0)[indx]\n",
    "\n",
    "print(\"K_mLl = {}\\n\".format(K_n_mL_slice))\n",
    "print(\"K_mLl_nu({}GHz) = {}\".format(nu_0, K_n_nu_mL_slice))"
   ]
  },
  {
   "cell_type": "code",
   "execution_count": null,
   "metadata": {
    "ExecuteTime": {
     "end_time": "2020-03-03T00:46:40.038579Z",
     "start_time": "2020-03-03T00:46:39.538432Z"
    }
   },
   "outputs": [],
   "source": [
    "\n",
    "# and here's the plot\n",
    "dell = np.arange(-kernel_a.delta_ell,kernel_a.delta_ell+1)\n",
    "\n",
    "plt.plot(dell,(K_a_mL_slice),color=\"k\",marker=\"o\",lw=3, label='$T$')\n",
    "#plt.plot(dell,(K_nu_mL_slice),color=\"tab:red\",ls=\"--\",marker=\"o\",label=\"$T_\\\\nu$ ({0} GHz)\".format(nu_0))\n",
    "\n",
    "plt.plot(dell,(K_n_mL_slice),color=\"r\",marker=\"o\",lw=1, label='$T$')\n",
    "#plt.plot(dell,(K_nu_mL_slice),color=\"tab:red\",ls=\"--\",marker=\"o\",label=\"$T_\\\\nu$ ({0} GHz)\".format(nu_0))\n",
    "plt.xlabel(r\"$\\Delta \\ell$\")\n",
    "plt.ylabel(r\"$|K_{m,\\ell',\\ell}|$\")\n",
    "\n",
    "plt.xlim(-delta_ell,delta_ell)\n",
    "plt.grid()\n",
    "plt.legend()\n",
    "plt.show()"
   ]
  },
  {
   "cell_type": "markdown",
   "metadata": {},
   "source": [
    "The difference between the Kernel coefficients for thermodynmic temperature and brightness temperature are negligible in this range at 217 GHz."
   ]
  },
  {
   "cell_type": "markdown",
   "metadata": {},
   "source": [
    "# Simulate the sky"
   ]
  },
  {
   "cell_type": "code",
   "execution_count": null,
   "metadata": {
    "ExecuteTime": {
     "end_time": "2020-03-03T00:46:46.094034Z",
     "start_time": "2020-03-03T00:46:45.578540Z"
    }
   },
   "outputs": [],
   "source": [
    "import os\n",
    "\n",
    "\n",
    "T_0 = 2.725\n",
    "ell=np.arange(lmax+1)\n",
    "\n",
    "# here's a sample power spectrum generated with CAMB\n",
    "lib_dir = os.path.join(cb.COSMOBOOST_DIR,\"lib\")\n",
    "\n",
    "Cl_camb = np.load(os.path.join(lib_dir,\"sample_Cl.npz\"))\n",
    "\n",
    "Cl_TT = Cl_camb[\"TT\"][:lmax+1]\n",
    "Cl_EE = Cl_camb[\"EE\"][:lmax+1]\n",
    "Cl_BB = Cl_camb[\"BB\"][:lmax+1]\n",
    "Cl_TE = Cl_camb[\"TE\"][:lmax+1]\n",
    "\n",
    "# let's use it to simulate a CMB map\n",
    "Cl = np.array([Cl_TT,Cl_EE,Cl_BB,Cl_TE])\n",
    "alm_T, alm_E, alm_B = hp.synalm(Cl,lmax=lmax,new=True,verbose=True)\n",
    "\n",
    "# this is our alm in the rest frame\n",
    "alm_r = np.array([alm_T, alm_E, alm_B])\n",
    "\n",
    "# this is the power spectrum of the simulation\n",
    "Cl_r = hp.alm2cl(alm_r)"
   ]
  },
  {
   "cell_type": "code",
   "execution_count": null,
   "metadata": {
    "ExecuteTime": {
     "end_time": "2020-03-03T00:47:00.808863Z",
     "start_time": "2020-03-03T00:46:46.466932Z"
    }
   },
   "outputs": [],
   "source": [
    "# here's a plot the power spectra in the rest frame\n",
    "\n",
    "plt.plot(ell,Cl_TT, label=\"TT (camb)\",color='tab:red')\n",
    "plt.plot(ell,Cl_EE, label=\"EE (camb)\",color='tab:blue')\n",
    "plt.plot(ell,Cl_TE, label=\"TE (camb)\",color='tab:purple')\n",
    "\n",
    "plt.plot(ell,Cl_r[0],label=\"TT (sim)\",color='tab:red',linestyle='--')\n",
    "plt.plot(ell,Cl_r[1],label=\"EE (sim)\",color='tab:blue',linestyle='--')\n",
    "plt.plot(ell,Cl_r[3],label=\"TE (sim)\",color='tab:purple',linestyle='--')\n",
    "\n",
    "plt.xlabel(\"$\\ell$\")\n",
    "plt.ylabel(\"$C_\\ell$\")\n",
    "\n",
    "plt.xscale(\"log\")\n",
    "plt.yscale(\"log\")\n",
    "\n",
    "plt.grid()\n",
    "plt.legend(loc=\"upper right\",ncol=2)\n",
    "plt.xlim(2,lmax)\n",
    "plt.show()"
   ]
  },
  {
   "cell_type": "markdown",
   "metadata": {},
   "source": [
    "# Boost the Whole Sky"
   ]
  },
  {
   "cell_type": "markdown",
   "metadata": {
    "ExecuteTime": {
     "end_time": "2019-08-06T19:34:30.364798Z",
     "start_time": "2019-08-06T19:34:30.331225Z"
    }
   },
   "source": [
    "## temperature only"
   ]
  },
  {
   "cell_type": "markdown",
   "metadata": {
    "ExecuteTime": {
     "end_time": "2019-08-06T19:25:35.019313Z",
     "start_time": "2019-08-06T19:25:34.984302Z"
    }
   },
   "source": [
    "Boosting the alms using `CosmoBoost` is very simple"
   ]
  },
  {
   "cell_type": "code",
   "execution_count": null,
   "metadata": {
    "ExecuteTime": {
     "end_time": "2020-03-03T00:47:03.145709Z",
     "start_time": "2020-03-03T00:47:01.175194Z"
    }
   },
   "outputs": [],
   "source": [
    "alm_T_r = alm_T\n",
    "\n",
    "# boost the temperature alm \n",
    "alm_T_b_a = cb.boost_alm(alm_T_r,kernel_a)\n",
    "# alm_T_b_n = cb.boost_alm(alm_T_r,kernel_n)"
   ]
  },
  {
   "cell_type": "markdown",
   "metadata": {
    "ExecuteTime": {
     "end_time": "2019-08-06T19:34:16.226401Z",
     "start_time": "2019-08-06T19:34:16.196089Z"
    }
   },
   "source": [
    "## other options"
   ]
  },
  {
   "cell_type": "markdown",
   "metadata": {},
   "source": [
    "You can also pass `alm_r` to the `cb.boost_alm` function which will boost both temperature and polarization:\n",
    "\n",
    "`alm_b = cb.boost_alm(alm_r,kernel)`\n",
    "\n",
    "And in order to boost a frequency-dependent observable, you can pass the frequency as the last argument as such\n",
    "\n",
    "`alm_b_217 = cb.boost_alm(alm_r, kernel, 217)`"
   ]
  },
  {
   "cell_type": "markdown",
   "metadata": {},
   "source": [
    "## boosted power spectreum"
   ]
  },
  {
   "cell_type": "code",
   "execution_count": null,
   "metadata": {
    "ExecuteTime": {
     "end_time": "2020-03-03T00:47:05.587365Z",
     "start_time": "2020-03-03T00:47:05.551900Z"
    }
   },
   "outputs": [],
   "source": [
    "from cosmoboost.lib import jeong\n",
    "from scipy.ndimage import gaussian_filter as GF"
   ]
  },
  {
   "cell_type": "code",
   "execution_count": null,
   "metadata": {
    "ExecuteTime": {
     "end_time": "2020-03-03T00:47:05.942285Z",
     "start_time": "2020-03-03T00:47:05.882296Z"
    }
   },
   "outputs": [],
   "source": [
    "# calculate the temperature power spectrum in the rest and boosted frame\n",
    "Cl_TT_r = Cl_r[0] \n",
    "Cl_TT_b_a = hp.alm2cl(alm_T_b_a)\n",
    "# Cl_TT_b_n = hp.alm2cl(alm_T_b_n)"
   ]
  },
  {
   "cell_type": "markdown",
   "metadata": {},
   "source": [
    "`CosmoBoost` also provides an additional boosting method `cb.boost_Cl` which can be directly applied to the power spectrum. However, since this method assumes azimuthal symmetry, it underestimates the effect."
   ]
  },
  {
   "cell_type": "code",
   "execution_count": null,
   "metadata": {
    "ExecuteTime": {
     "end_time": "2020-03-03T00:47:06.324718Z",
     "start_time": "2020-03-03T00:47:06.270074Z"
    }
   },
   "outputs": [],
   "source": [
    "# Cl_TT_b_approx = cb.boost_Cl(Cl_TT_r,kernel)"
   ]
  },
  {
   "cell_type": "markdown",
   "metadata": {},
   "source": [
    "Now let's plot the power spectra together"
   ]
  },
  {
   "cell_type": "code",
   "execution_count": null,
   "metadata": {
    "ExecuteTime": {
     "end_time": "2020-03-03T00:49:21.098631Z",
     "start_time": "2020-03-03T00:49:20.048154Z"
    }
   },
   "outputs": [],
   "source": [
    "plt.plot(ell,ell**2*Cl_TT_r,linewidth=3,color='k',label='rest frame')\n",
    "# plt.plot(ell,ell**2*Cl_TT_b_n,linewidth=1,color=\"tab:orange\",label='boosted $a_{\\ell m}$')\n",
    "plt.plot(ell,ell**2*Cl_TT_b_a,linewidth=0.5,ls='--',color=\"tab:red\",label='boosted $C_{\\ell}$')\n",
    "\n",
    "\n",
    "plt.xlabel(\"$\\ell$\")\n",
    "plt.ylabel(\"$\\ell^2 C_\\ell$\")\n",
    "\n",
    "plt.yscale(\"log\")\n",
    "plt.xlim(2,lmax)\n",
    "plt.ylim(1E-9,2E-7)\n",
    "plt.legend()\n",
    "\n",
    "plt.show()"
   ]
  },
  {
   "cell_type": "markdown",
   "metadata": {},
   "source": [
    "In order to see the difference between them better, we calculate the relative change between the boosted and the rest frame spectra."
   ]
  },
  {
   "cell_type": "code",
   "execution_count": null,
   "metadata": {
    "ExecuteTime": {
     "end_time": "2020-03-03T00:48:28.049610Z",
     "start_time": "2020-03-03T00:48:28.013952Z"
    }
   },
   "outputs": [],
   "source": [
    "# calculate the relative change of the boosted Cl using the accurate formalism\n",
    "dCl_TT_b_a = (Cl_TT_b_a - Cl_TT_r)\n",
    "dCl_Cl_TT_b_a = dCl_TT_b_a/Cl_TT_r\n",
    "\n",
    "# dCl_TT_b_n = (Cl_TT_b_n - Cl_TT_r)\n",
    "# dCl_Cl_TT_b_n = dCl_TT_b_n/Cl_TT_r\n",
    "# # and for the approximation\n",
    "# dCl_TT_b_approx = (Cl_TT_b_approx - Cl_TT_r)\n",
    "# dCl_Cl_TT_b_approx = dCl_TT_b_approx/Cl_TT_r\n",
    "\n",
    "\n",
    "# Gaussian smooth the results with a window\n",
    "dL = 50\n",
    "\n",
    "dCl_Cl_TT_b_a_GF = GF(dCl_Cl_TT_b_a, dL, mode=\"constant\")\n",
    "dCl_Cl_TT_b_n_GF = GF(dCl_Cl_TT_b_n, dL, mode=\"constant\")\n",
    "#dCl_Cl_TT_b_approx_GF = GF(dCl_Cl_TT_b_approx, dL, mode=\"constant\")\n"
   ]
  },
  {
   "cell_type": "code",
   "execution_count": null,
   "metadata": {
    "ExecuteTime": {
     "end_time": "2020-03-03T00:48:30.007028Z",
     "start_time": "2020-03-03T00:48:28.556826Z"
    }
   },
   "outputs": [],
   "source": [
    "fig, ax = plt.subplots(2,1,figsize=(8,4),sharex=True)\n",
    "fig.subplots_adjust(hspace=0)\n",
    "\n",
    "# ax[0].plot(100*dCl_Cl_TT_b_n,linewidth=0.5,alpha=0.7,color=\"tab:orange\",label='boosted $a_{\\ell m}$')\n",
    "ax[0].plot(100*dCl_Cl_TT_b_a,linewidth=0.5,alpha=0.7,color=\"tab:blue\",label='boosted $a_{\\ell m}$')\n",
    "#ax[0].plot(100*dCl_Cl_TT_b_approx,linewidth=0.5, alpha=0.7,color=\"tab:red\",label='boosted $C_\\ell$')\n",
    "\n",
    "\n",
    "#ax[1].plot(100*dCl_Cl_TT_b_n,linewidth=0.2,alpha=0.3,color=\"tab:orange\")\n",
    "#ax[1].plot(100*dCl_Cl_TT_b_approx,linewidth=0.3, alpha=0.4,color=\"tab:red\")\n",
    "\n",
    "ax[1].plot(100*dCl_Cl_TT_b_n_GF,linewidth=2,color=\"tab:orange\",label='boosted $a_{\\ell m}$ (Gaussian smoothed)')\n",
    "ax[1].plot(100*dCl_Cl_TT_b_a_GF,linewidth=2,color=\"tab:blue\",label='boosted $a_{\\ell m}$ (Gaussian smoothed)')\n",
    "\n",
    "\n",
    "ax[1].set_ylim(-0.15,0.15)\n",
    "\n",
    "for axis in ax:\n",
    "    axis.set_xlabel(\"$\\ell$\")\n",
    "    axis.set_ylabel(\"$\\Delta C_\\ell/C_\\ell (\\%)$\")\n",
    "    axis.set_xlim(2,lmax)\n",
    "    axis.grid()\n",
    "    axis.legend()\n",
    "\n",
    "\n",
    "plt.show()"
   ]
  },
  {
   "cell_type": "markdown",
   "metadata": {},
   "source": [
    "The effect of the boost is negligible for in whole-sky maps. However, this is not the case for partial sky observations as we will see in the next section. "
   ]
  },
  {
   "cell_type": "markdown",
   "metadata": {},
   "source": [
    "# Boost a Masked Sky"
   ]
  },
  {
   "cell_type": "code",
   "execution_count": null,
   "metadata": {
    "ExecuteTime": {
     "end_time": "2020-03-03T00:49:34.357201Z",
     "start_time": "2020-03-03T00:49:34.330654Z"
    }
   },
   "outputs": [],
   "source": [
    "def mask_cutbelowlat(cut_angle, lat_pix):\n",
    "    \"\"\"mask all the pixels beloe the latitude cut_angle [deg]\"\"\"\n",
    "    mask = np.ones_like(lat_pix)\n",
    "    mask[(lat_pix < cut_angle)] = 0.\n",
    "    \n",
    "    #approximate f_sky using the number of pixels\n",
    "    f_sky = len(mask[mask == 1.]) / len(mask)\n",
    "\n",
    "    return mask, f_sky"
   ]
  },
  {
   "cell_type": "code",
   "execution_count": null,
   "metadata": {
    "ExecuteTime": {
     "end_time": "2020-03-03T00:49:34.939143Z",
     "start_time": "2020-03-03T00:49:34.698718Z"
    }
   },
   "outputs": [],
   "source": [
    "NSIDE=2000\n",
    "NPIX = hp.nside2npix(NSIDE)\n",
    "lon_pix, lat_pix = hp.pix2ang(NSIDE,np.arange(NPIX),lonlat=True)"
   ]
  },
  {
   "cell_type": "code",
   "execution_count": null,
   "metadata": {
    "ExecuteTime": {
     "end_time": "2020-03-03T00:49:35.265094Z",
     "start_time": "2020-03-03T00:49:35.213070Z"
    }
   },
   "outputs": [],
   "source": [
    "mask_60,f_sky = mask_cutbelowlat(0,lat_pix)"
   ]
  },
  {
   "cell_type": "code",
   "execution_count": null,
   "metadata": {
    "ExecuteTime": {
     "end_time": "2020-03-03T00:49:37.555314Z",
     "start_time": "2020-03-03T00:49:35.536143Z"
    }
   },
   "outputs": [],
   "source": [
    "boost_ang = -(lat_pix-90.)\n",
    "hp.mollview(boost_ang)"
   ]
  },
  {
   "cell_type": "code",
   "execution_count": null,
   "metadata": {
    "ExecuteTime": {
     "end_time": "2020-03-03T00:49:39.374644Z",
     "start_time": "2020-03-03T00:49:37.920715Z"
    }
   },
   "outputs": [],
   "source": [
    "cos_map = np.cos(np.deg2rad(boost_ang))*mask_60\n",
    "ones_map = np.ones_like(lat_pix)*mask_60\n",
    "hp.mollview(cos_map)\n",
    "cos_avg = np.sum(cos_map)/np.sum(ones_map)\n",
    "cos_avg\n",
    "#jeong.jeong_boost_Cl()"
   ]
  },
  {
   "cell_type": "code",
   "execution_count": null,
   "metadata": {
    "ExecuteTime": {
     "end_time": "2020-03-03T00:49:40.598374Z",
     "start_time": "2020-03-03T00:49:39.700606Z"
    }
   },
   "outputs": [],
   "source": [
    "T_map_r = hp.alm2map(alm_T_r,NSIDE)\n",
    "\n",
    "T_map_b_a = hp.alm2map(alm_T_b_a,NSIDE)\n",
    "# T_map_b_n = hp.alm2map(alm_T_b_n,NSIDE)\n",
    "\n",
    "T_map_r_ma = mask_60*T_map_r\n",
    "\n",
    "T_map_b_a_ma = mask_60*T_map_b_a\n",
    "# T_map_b_n_ma = mask_60*T_map_b_n"
   ]
  },
  {
   "cell_type": "code",
   "execution_count": null,
   "metadata": {
    "ExecuteTime": {
     "end_time": "2020-03-03T00:49:41.623904Z",
     "start_time": "2020-03-03T00:49:40.938236Z"
    }
   },
   "outputs": [],
   "source": [
    "\n",
    "T_map_b_a = hp.alm2map(alm_T_b_a,NSIDE)\n",
    "T_map_b_n = hp.alm2map(alm_T_b_n,NSIDE)\n",
    "\n",
    "\n",
    "T_map_b_a_ma = mask_60*T_map_b_a\n",
    "T_map_b_n_ma = mask_60*T_map_b_n"
   ]
  },
  {
   "cell_type": "code",
   "execution_count": null,
   "metadata": {
    "ExecuteTime": {
     "end_time": "2020-03-03T00:49:46.853010Z",
     "start_time": "2020-03-03T00:49:41.907175Z"
    }
   },
   "outputs": [],
   "source": [
    "hp.mollview(mask_60, sub=221,title=\"Mask\")\n",
    "hp.mollview(T_map_r_ma, sub=222,title=\"CMB\")\n"
   ]
  },
  {
   "cell_type": "code",
   "execution_count": null,
   "metadata": {
    "ExecuteTime": {
     "end_time": "2020-03-03T00:49:54.321935Z",
     "start_time": "2020-03-03T00:49:48.904224Z"
    }
   },
   "outputs": [],
   "source": [
    "Cl_TT_r_ma =(1/f_sky)*hp.anafast(T_map_r_ma,lmax=lmax)\n",
    "\n",
    "Cl_TT_b_a_ma =(1/f_sky)*hp.anafast(T_map_b_a_ma,lmax=lmax)\n",
    "Cl_TT_b_n_ma =(1/f_sky)*hp.anafast(T_map_b_n_ma,lmax=lmax)"
   ]
  },
  {
   "cell_type": "code",
   "execution_count": null,
   "metadata": {},
   "outputs": [],
   "source": [
    "plt.semilogy(Cl_TT_r_ma)"
   ]
  },
  {
   "cell_type": "code",
   "execution_count": null,
   "metadata": {},
   "outputs": [],
   "source": [
    "plt.semilogy(100*Cl_TT_b_a_ma,linewidth=2,color=\"tab:orange\",label='boosted $a_{\\ell m}$ (Gaussian smoothed)')\n",
    "plt.semilogy(100*Cl_TT_b_n_ma,linewidth=2,ls='--',color=\"tab:blue\",label='boosted $a_{\\ell m}$ (Gaussian smoothed)')"
   ]
  },
  {
   "cell_type": "code",
   "execution_count": null,
   "metadata": {},
   "outputs": [],
   "source": [
    "plt.plot((100*Cl_TT_b_a_ma)-(100*Cl_TT_b_n_ma),linewidth=2,color=\"tab:orange\",label='boosted $a_{\\ell m}$ (Gaussian smoothed)')"
   ]
  },
  {
   "cell_type": "code",
   "execution_count": null,
   "metadata": {
    "ExecuteTime": {
     "end_time": "2020-03-03T00:49:54.688014Z",
     "start_time": "2020-03-03T00:49:54.658170Z"
    }
   },
   "outputs": [],
   "source": [
    "# calculate the relative change of the boosted Cl using the accurate formalism\n",
    "dCl_TT_b_a_ma = (Cl_TT_b_a_ma - Cl_TT_r_ma)\n",
    "dCl_Cl_TT_b_a_ma = dCl_TT_b_a_ma/Cl_TT_r_ma\n",
    "\n",
    "dCl_TT_b_n_ma = (Cl_TT_b_n_ma - Cl_TT_r_ma)\n",
    "dCl_Cl_TT_b_n_ma = dCl_TT_b_n_ma/Cl_TT_r_ma\n",
    "\n",
    "# Gaussian smooth the results with a window\n",
    "dL = 50\n",
    "\n",
    "dCl_Cl_TT_b_a_ma_GF = GF(dCl_Cl_TT_b_a_ma, dL, mode=\"constant\")\n",
    "dCl_Cl_TT_b_n_ma_GF = GF(dCl_Cl_TT_b_n_ma, dL, mode=\"constant\")"
   ]
  },
  {
   "cell_type": "code",
   "execution_count": null,
   "metadata": {},
   "outputs": [],
   "source": [
    "plt.semilogx(100*dCl_TT_b_a_ma,linewidth=2,color=\"tab:orange\",label='boosted $a_{\\ell m}$ (Gaussian smoothed)')\n",
    "plt.semilogx(100*dCl_TT_b_n_ma,linewidth=2,ls='--',color=\"tab:blue\",label='boosted $a_{\\ell m}$ (Gaussian smoothed)')"
   ]
  },
  {
   "cell_type": "code",
   "execution_count": null,
   "metadata": {},
   "outputs": [],
   "source": [
    "plt.semilogx(100*dCl_Cl_TT_b_a_ma[:700],linewidth=2,color=\"tab:orange\",label='boosted $a_{\\ell m}$ (Gaussian smoothed)')\n",
    "plt.semilogx(100*dCl_Cl_TT_b_n_ma[:700],linewidth=2,ls='--',color=\"tab:blue\",label='boosted $a_{\\ell m}$ (Gaussian smoothed)')"
   ]
  },
  {
   "cell_type": "code",
   "execution_count": null,
   "metadata": {},
   "outputs": [],
   "source": [
    "plt.semilogx(100*dCl_Cl_TT_b_a_ma[:700]-(100*dCl_Cl_TT_b_n_ma[:700]),linewidth=2,color=\"tab:orange\",label='boosted $a_{\\ell m}$ (Gaussian smoothed)')"
   ]
  },
  {
   "cell_type": "code",
   "execution_count": null,
   "metadata": {},
   "outputs": [],
   "source": [
    "plt.semilogx(100*dCl_Cl_TT_b_a_ma_GF,linewidth=2,color=\"tab:orange\",label='boosted $a_{\\ell m}$ (Gaussian smoothed)')\n",
    "plt.semilogx(100*dCl_Cl_TT_b_n_ma_GF,linewidth=2,ls='--',color=\"tab:blue\",label='boosted $a_{\\ell m}$ (Gaussian smoothed)')"
   ]
  },
  {
   "cell_type": "code",
   "execution_count": null,
   "metadata": {
    "ExecuteTime": {
     "end_time": "2020-03-03T00:49:55.090477Z",
     "start_time": "2020-03-03T00:49:55.052459Z"
    }
   },
   "outputs": [],
   "source": [
    "Cl_TT_jeong = jeong.jeong_boost_Cl_1storder(ell, Cl_TT,beta= 0.00123, cos_avg= 0.5)\n",
    "\n",
    "dCl_TT_b_jeong = (Cl_TT_jeong - Cl_TT_r)\n",
    "dCl_Cl_TT_b_jeong = Cl_TT_jeong/Cl_TT_r\n",
    "\n",
    "dCl_Cl_TT_b_jeong_GF = GF(dCl_Cl_TT_b_jeong, dL, mode=\"constant\")"
   ]
  },
  {
   "cell_type": "code",
   "execution_count": null,
   "metadata": {
    "ExecuteTime": {
     "end_time": "2020-03-03T00:50:21.999340Z",
     "start_time": "2020-03-03T00:50:21.333100Z"
    }
   },
   "outputs": [],
   "source": [
    "#plt.plot(ell,100*(dCl_Cl_TT_b_n_ma),linewidth=0.5,alpha=0.7,color=\"tab:orange\",label=\"boosted and masked $a_{\\ell m}$\")\n",
    "# plt.plot(ell,100*(dCl_Cl_TT_b_n_ma_GF),linewidth=5,color=\"tab:orange\",label=\"Gaussian smoothed\")\n",
    "\n",
    "#plt.plot(ell,100*(dCl_Cl_TT_b_a_ma),linewidth=0.5,alpha=0.7,color=\"tab:blue\",label=\"boosted and masked $a_{\\ell m}$\")\n",
    "plt.plot(ell,100*(dCl_Cl_TT_b_a_ma_GF),linewidth=3, ls=\"--\", color=\"tab:blue\",label=\"Gaussian smoothed\")\n",
    "\n",
    "plt.plot(ell,100*(dCl_Cl_TT_b_jeong_GF),linewidth=2,color=\"tab:red\",label=\"Jeong\")\n",
    "\n",
    "plt.xlabel(\"$\\ell$\")\n",
    "plt.ylabel(\"$\\Delta C_\\ell/C_\\ell (\\%)$\")\n",
    "\n",
    "plt.grid()\n",
    "plt.legend()\n",
    "\n",
    "plt.ylim(-1,1)\n",
    "plt.xlim(100,lmax)\n",
    "plt.show()"
   ]
  },
  {
   "cell_type": "markdown",
   "metadata": {},
   "source": [
    "We see that the effect of the boost on masked portions of the sky is not negligible and can exceed a few percent. "
   ]
  },
  {
   "cell_type": "code",
   "execution_count": null,
   "metadata": {
    "scrolled": true
   },
   "outputs": [],
   "source": [
    "plt.plot(ell,100*(dCl_Cl_TT_b_a_ma_GF)-(100*dCl_Cl_TT_b_n_ma_GF),linewidth=3, ls=\"--\", color=\"tab:blue\",label=\"Gaussian smoothed\")"
   ]
  },
  {
   "cell_type": "code",
   "execution_count": null,
   "metadata": {},
   "outputs": [],
   "source": []
  },
  {
   "cell_type": "code",
   "execution_count": null,
   "metadata": {},
   "outputs": [],
   "source": []
  },
  {
   "cell_type": "code",
   "execution_count": null,
   "metadata": {},
   "outputs": [],
   "source": []
  },
  {
   "cell_type": "code",
   "execution_count": null,
   "metadata": {},
   "outputs": [],
   "source": []
  }
 ],
 "metadata": {
  "kernelspec": {
   "display_name": "Python 3",
   "language": "python",
   "name": "python3"
  },
  "language_info": {
   "codemirror_mode": {
    "name": "ipython",
    "version": 3
   },
   "file_extension": ".py",
   "mimetype": "text/x-python",
   "name": "python",
   "nbconvert_exporter": "python",
   "pygments_lexer": "ipython3",
   "version": "3.6.9"
  },
  "latex_envs": {
   "LaTeX_envs_menu_present": true,
   "autoclose": false,
   "autocomplete": true,
   "bibliofile": "biblio.bib",
   "cite_by": "apalike",
   "current_citInitial": 1,
   "eqLabelWithNumbers": true,
   "eqNumInitial": 1,
   "hotkeys": {
    "equation": "Ctrl-E",
    "itemize": "Ctrl-I"
   },
   "labels_anchors": false,
   "latex_user_defs": false,
   "report_style_numbering": false,
   "user_envs_cfg": false
  },
  "toc": {
   "base_numbering": 1,
   "nav_menu": {},
   "number_sections": true,
   "sideBar": true,
   "skip_h1_title": false,
   "title_cell": "Table of Contents",
   "title_sidebar": "Contents",
   "toc_cell": false,
   "toc_position": {
    "height": "calc(100% - 180px)",
    "left": "10px",
    "top": "150px",
    "width": "360px"
   },
   "toc_section_display": true,
   "toc_window_display": true
  },
  "varInspector": {
   "cols": {
    "lenName": 16,
    "lenType": 16,
    "lenVar": 40
   },
   "kernels_config": {
    "python": {
     "delete_cmd_postfix": "",
     "delete_cmd_prefix": "del ",
     "library": "var_list.py",
     "varRefreshCmd": "print(var_dic_list())"
    },
    "r": {
     "delete_cmd_postfix": ") ",
     "delete_cmd_prefix": "rm(",
     "library": "var_list.r",
     "varRefreshCmd": "cat(var_dic_list()) "
    }
   },
   "types_to_exclude": [
    "module",
    "function",
    "builtin_function_or_method",
    "instance",
    "_Feature"
   ],
   "window_display": false
  }
 },
 "nbformat": 4,
 "nbformat_minor": 2
}
